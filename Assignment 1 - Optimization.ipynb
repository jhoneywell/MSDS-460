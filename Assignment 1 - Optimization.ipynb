{
 "cells": [
  {
   "cell_type": "code",
   "execution_count": 1,
   "metadata": {},
   "outputs": [],
   "source": [
    "#Jenna Honeywell Assignment 1 Flair Furniture Bonus"
   ]
  },
  {
   "cell_type": "code",
   "execution_count": 2,
   "metadata": {},
   "outputs": [],
   "source": [
    "import pulp as p"
   ]
  },
  {
   "cell_type": "code",
   "execution_count": 3,
   "metadata": {},
   "outputs": [],
   "source": [
    "#Setting up for maximization problem \n",
    "max_profit = p.LpProblem('Problem', p.LpMaximize)"
   ]
  },
  {
   "cell_type": "code",
   "execution_count": 4,
   "metadata": {},
   "outputs": [],
   "source": [
    "#Creating Table (x) and Chair (y) variables\n",
    "x = p.LpVariable(\"x\", lowBound=0) \n",
    "y = p.LpVariable(\"y\", lowBound=0)"
   ]
  },
  {
   "cell_type": "code",
   "execution_count": 5,
   "metadata": {},
   "outputs": [],
   "source": [
    "#Objective Function\n",
    "max_profit += 7*x + 5*y"
   ]
  },
  {
   "cell_type": "code",
   "execution_count": 6,
   "metadata": {},
   "outputs": [],
   "source": [
    "#Constraints\n",
    "max_profit += 3*x + 4*y <= 2400\n",
    "max_profit += 2*x + 1*y <= 1000\n",
    "max_profit += x >= 100\n",
    "max_profit += y <= 450"
   ]
  },
  {
   "cell_type": "code",
   "execution_count": 7,
   "metadata": {},
   "outputs": [
    {
     "name": "stdout",
     "output_type": "stream",
     "text": [
      "Problem:\n",
      "MAXIMIZE\n",
      "7*x + 5*y + 0\n",
      "SUBJECT TO\n",
      "_C1: 3 x + 4 y <= 2400\n",
      "\n",
      "_C2: 2 x + y <= 1000\n",
      "\n",
      "_C3: x >= 100\n",
      "\n",
      "_C4: y <= 450\n",
      "\n",
      "VARIABLES\n",
      "x Continuous\n",
      "y Continuous\n",
      "\n"
     ]
    }
   ],
   "source": [
    "#Show problem\n",
    "print(max_profit)"
   ]
  },
  {
   "cell_type": "code",
   "execution_count": 8,
   "metadata": {},
   "outputs": [
    {
     "name": "stdout",
     "output_type": "stream",
     "text": [
      "Optimal\n"
     ]
    }
   ],
   "source": [
    "status = max_profit.solve()\n",
    "print(p.LpStatus[status])"
   ]
  },
  {
   "cell_type": "code",
   "execution_count": 9,
   "metadata": {},
   "outputs": [
    {
     "name": "stdout",
     "output_type": "stream",
     "text": [
      "320.0 360.0 4040.0\n"
     ]
    }
   ],
   "source": [
    "print(p.value(x), p.value(y), p.value(max_profit.objective))"
   ]
  },
  {
   "cell_type": "code",
   "execution_count": 10,
   "metadata": {},
   "outputs": [],
   "source": [
    "#As seen in answer above, x (number of tables) = 320; y (number of chairs) = 360; max_profit = 4040\n",
    "#These answers are consistent with what I got using Excel Solver."
   ]
  }
 ],
 "metadata": {
  "kernelspec": {
   "display_name": "Python 3",
   "language": "python",
   "name": "python3"
  },
  "language_info": {
   "codemirror_mode": {
    "name": "ipython",
    "version": 3
   },
   "file_extension": ".py",
   "mimetype": "text/x-python",
   "name": "python",
   "nbconvert_exporter": "python",
   "pygments_lexer": "ipython3",
   "version": "3.7.3"
  }
 },
 "nbformat": 4,
 "nbformat_minor": 2
}
