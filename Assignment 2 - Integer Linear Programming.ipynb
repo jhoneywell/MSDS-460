{
 "cells": [
  {
   "cell_type": "code",
   "execution_count": 1,
   "metadata": {},
   "outputs": [],
   "source": [
    "#Jenna Honeywell Assignment 2 Student Assignment Bonus"
   ]
  },
  {
   "cell_type": "code",
   "execution_count": 2,
   "metadata": {},
   "outputs": [],
   "source": [
    "import pulp as p"
   ]
  },
  {
   "cell_type": "markdown",
   "metadata": {},
   "source": [
    "# Part 1 - Student Maximization"
   ]
  },
  {
   "cell_type": "code",
   "execution_count": 3,
   "metadata": {},
   "outputs": [],
   "source": [
    "#Setting up for student max problem \n",
    "max_students = p.LpProblem(\"Student_Maximization_Problem\", p.LpMaximize)"
   ]
  },
  {
   "cell_type": "code",
   "execution_count": 4,
   "metadata": {},
   "outputs": [],
   "source": [
    "#Creating variables (Texas_AS = 1; Texas_COL = 2; Cali_AS = 3; Cali_COL = 4; DC_AS = 5; DC_COL = 6; NY_AS = 7; NY_COL =8)\n",
    "x1 = p.LpVariable(\"x1\", lowBound=0) \n",
    "x2 = p.LpVariable(\"x2\", lowBound=0)\n",
    "x3 = p.LpVariable(\"x3\", lowBound=0) \n",
    "x4 = p.LpVariable(\"x4\", lowBound=0) \n",
    "x5 = p.LpVariable(\"x5\", lowBound=0) \n",
    "x6 = p.LpVariable(\"x6\", lowBound=0) \n",
    "x7 = p.LpVariable(\"x7\", lowBound=0) \n",
    "x8 = p.LpVariable(\"x8\", lowBound=0) "
   ]
  },
  {
   "cell_type": "code",
   "execution_count": 5,
   "metadata": {},
   "outputs": [],
   "source": [
    "#Objective Function \n",
    "max_students += 3000*x1 + 4500*x2 + 2500*x3 + 4000*x4 + 5000*x5 + 1500*x6 + 4000*x7 + 2000*x8"
   ]
  },
  {
   "cell_type": "code",
   "execution_count": 6,
   "metadata": {},
   "outputs": [],
   "source": [
    "#Constraints\n",
    "max_students += x1 + x3 + x5 + x7 >= 1000\n",
    "max_students += x2 + x4 + x6 + x8 >= 1400\n",
    "max_students += x1 + x2 <= 750\n",
    "max_students += x3 + x4 <= 650\n",
    "max_students += x5 + x6 <= 300\n",
    "max_students += x7 +x8 <= 800"
   ]
  },
  {
   "cell_type": "code",
   "execution_count": 7,
   "metadata": {},
   "outputs": [
    {
     "name": "stdout",
     "output_type": "stream",
     "text": [
      "Student_Maximization_Problem:\n",
      "MAXIMIZE\n",
      "3000*x1 + 4500*x2 + 2500*x3 + 4000*x4 + 5000*x5 + 1500*x6 + 4000*x7 + 2000*x8 + 0\n",
      "SUBJECT TO\n",
      "_C1: x1 + x3 + x5 + x7 >= 1000\n",
      "\n",
      "_C2: x2 + x4 + x6 + x8 >= 1400\n",
      "\n",
      "_C3: x1 + x2 <= 750\n",
      "\n",
      "_C4: x3 + x4 <= 650\n",
      "\n",
      "_C5: x5 + x6 <= 300\n",
      "\n",
      "_C6: x7 + x8 <= 800\n",
      "\n",
      "VARIABLES\n",
      "x1 Continuous\n",
      "x2 Continuous\n",
      "x3 Continuous\n",
      "x4 Continuous\n",
      "x5 Continuous\n",
      "x6 Continuous\n",
      "x7 Continuous\n",
      "x8 Continuous\n",
      "\n"
     ]
    }
   ],
   "source": [
    "#Show Problem\n",
    "print(max_students)"
   ]
  },
  {
   "cell_type": "code",
   "execution_count": 8,
   "metadata": {},
   "outputs": [
    {
     "name": "stdout",
     "output_type": "stream",
     "text": [
      "Optimal\n"
     ]
    }
   ],
   "source": [
    "status=max_students.solve()\n",
    "print(p.LpStatus[status])"
   ]
  },
  {
   "cell_type": "code",
   "execution_count": 9,
   "metadata": {},
   "outputs": [
    {
     "name": "stdout",
     "output_type": "stream",
     "text": [
      "x1 = 0.0\n",
      "x2 = 750.0\n",
      "x3 = 0.0\n",
      "x4 = 650.0\n",
      "x5 = 300.0\n",
      "x6 = 0.0\n",
      "x7 = 800.0\n",
      "x8 = 0.0\n"
     ]
    }
   ],
   "source": [
    "#Looking at optimal variable values \n",
    "for variable in max_students.variables():\n",
    "    print (\"{} = {}\".format(variable.name, variable.varValue))"
   ]
  },
  {
   "cell_type": "code",
   "execution_count": 10,
   "metadata": {},
   "outputs": [
    {
     "name": "stdout",
     "output_type": "stream",
     "text": [
      "10675000.0\n"
     ]
    }
   ],
   "source": [
    "#Looking at objective value (cost)\n",
    "print(p.value(max_students.objective))"
   ]
  },
  {
   "cell_type": "code",
   "execution_count": 11,
   "metadata": {},
   "outputs": [
    {
     "name": "stdout",
     "output_type": "stream",
     "text": [
      "2500.0\n"
     ]
    }
   ],
   "source": [
    "#Adding x1-x8 values to see total number of students \n",
    "print(p.value(x1)+p.value(x2)+p.value(x3)+p.value(x4)+p.value(x5)+p.value(x6)+p.value(x7)+p.value(x8))"
   ]
  },
  {
   "cell_type": "markdown",
   "metadata": {},
   "source": [
    "Solved for max number of students by using cost maximization as maximizing cost would also result in the max number of students being hired.  It's not necessarily the smartest financial move, but does employ the maximum number of students."
   ]
  },
  {
   "cell_type": "markdown",
   "metadata": {},
   "source": [
    "# Part 2 - Minimum Cost"
   ]
  },
  {
   "cell_type": "code",
   "execution_count": 13,
   "metadata": {},
   "outputs": [],
   "source": [
    "#Setting up for cost minimization problem \n",
    "min_cost = p.LpProblem(\"Minimum_Cost_Problem\", p.LpMinimize)"
   ]
  },
  {
   "cell_type": "code",
   "execution_count": 14,
   "metadata": {},
   "outputs": [],
   "source": [
    "#Creating variables (Texas_AS = 1; Texas_COL = 2; Cali_AS = 3; Cali_COL = 4; DC_AS = 5; DC_COL = 6; NY_AS = 7; NY_COL =8)\n",
    "y1 = p.LpVariable(\"y1\", lowBound=0) \n",
    "y2 = p.LpVariable(\"y2\", lowBound=0)\n",
    "y3 = p.LpVariable(\"y3\", lowBound=0) \n",
    "y4 = p.LpVariable(\"y4\", lowBound=0) \n",
    "y5 = p.LpVariable(\"y5\", lowBound=0) \n",
    "y6 = p.LpVariable(\"y6\", lowBound=0) \n",
    "y7 = p.LpVariable(\"y7\", lowBound=0) \n",
    "y8 = p.LpVariable(\"y8\", lowBound=0) "
   ]
  },
  {
   "cell_type": "code",
   "execution_count": 15,
   "metadata": {},
   "outputs": [],
   "source": [
    "#Objective Function \n",
    "min_cost += 3000*y1 + 4500*y2 + 2500*y3 + 4000*y4 + 5000*y5 + 1500*y6 + 4000*y7 + 2000*y8"
   ]
  },
  {
   "cell_type": "code",
   "execution_count": 16,
   "metadata": {},
   "outputs": [],
   "source": [
    "#Constraints\n",
    "min_cost += y1 + y3 + y5 + y7 >= 1000\n",
    "min_cost += y2 + y4 + y6 + y8 >= 1400\n",
    "min_cost += y1 + y2 <= 750\n",
    "min_cost += y3 + y4 <= 650\n",
    "min_cost += y5 + y6 <= 300\n",
    "min_cost += y7 + y8 <= 800"
   ]
  },
  {
   "cell_type": "code",
   "execution_count": 17,
   "metadata": {},
   "outputs": [
    {
     "name": "stdout",
     "output_type": "stream",
     "text": [
      "Minimum_Cost_Problem:\n",
      "MINIMIZE\n",
      "3000*y1 + 4500*y2 + 2500*y3 + 4000*y4 + 5000*y5 + 1500*y6 + 4000*y7 + 2000*y8 + 0\n",
      "SUBJECT TO\n",
      "_C1: y1 + y3 + y5 + y7 >= 1000\n",
      "\n",
      "_C2: y2 + y4 + y6 + y8 >= 1400\n",
      "\n",
      "_C3: y1 + y2 <= 750\n",
      "\n",
      "_C4: y3 + y4 <= 650\n",
      "\n",
      "_C5: y5 + y6 <= 300\n",
      "\n",
      "_C6: y7 + y8 <= 800\n",
      "\n",
      "VARIABLES\n",
      "y1 Continuous\n",
      "y2 Continuous\n",
      "y3 Continuous\n",
      "y4 Continuous\n",
      "y5 Continuous\n",
      "y6 Continuous\n",
      "y7 Continuous\n",
      "y8 Continuous\n",
      "\n"
     ]
    }
   ],
   "source": [
    "#Show Problem\n",
    "print(min_cost)"
   ]
  },
  {
   "cell_type": "code",
   "execution_count": 18,
   "metadata": {},
   "outputs": [
    {
     "name": "stdout",
     "output_type": "stream",
     "text": [
      "Optimal\n"
     ]
    }
   ],
   "source": [
    "status=min_cost.solve()\n",
    "print(p.LpStatus[status])"
   ]
  },
  {
   "cell_type": "code",
   "execution_count": 19,
   "metadata": {},
   "outputs": [
    {
     "name": "stdout",
     "output_type": "stream",
     "text": [
      "y1 = 350.0\n",
      "y2 = 300.0\n",
      "y3 = 650.0\n",
      "y4 = 0.0\n",
      "y5 = 0.0\n",
      "y6 = 300.0\n",
      "y7 = 0.0\n",
      "y8 = 800.0\n"
     ]
    }
   ],
   "source": [
    "#Looking at optimal variable values \n",
    "for variable in min_cost.variables():\n",
    "    print (\"{} = {}\".format(variable.name, variable.varValue))"
   ]
  },
  {
   "cell_type": "code",
   "execution_count": 20,
   "metadata": {},
   "outputs": [
    {
     "name": "stdout",
     "output_type": "stream",
     "text": [
      "6075000.0\n"
     ]
    }
   ],
   "source": [
    "#Looking at objective value (cost)\n",
    "print(p.value(min_cost.objective))"
   ]
  },
  {
   "cell_type": "code",
   "execution_count": 21,
   "metadata": {},
   "outputs": [
    {
     "name": "stdout",
     "output_type": "stream",
     "text": [
      "2400.0\n"
     ]
    }
   ],
   "source": [
    "#Adding x1-x8 values to see total number of students \n",
    "print(p.value(y1)+p.value(y2)+p.value(y3)+p.value(y4)+p.value(y5)+p.value(y6)+p.value(y7)+p.value(y8))"
   ]
  }
 ],
 "metadata": {
  "kernelspec": {
   "display_name": "Python 3",
   "language": "python",
   "name": "python3"
  },
  "language_info": {
   "codemirror_mode": {
    "name": "ipython",
    "version": 3
   },
   "file_extension": ".py",
   "mimetype": "text/x-python",
   "name": "python",
   "nbconvert_exporter": "python",
   "pygments_lexer": "ipython3",
   "version": "3.7.3"
  }
 },
 "nbformat": 4,
 "nbformat_minor": 2
}
