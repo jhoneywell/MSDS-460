{
 "cells": [
  {
   "cell_type": "code",
   "execution_count": 1,
   "metadata": {},
   "outputs": [],
   "source": [
    "#Jenna Honeywell Assignment 3 Bonus (25 points)"
   ]
  },
  {
   "cell_type": "code",
   "execution_count": 2,
   "metadata": {},
   "outputs": [],
   "source": [
    "import numpy as np\n",
    "from scipy.optimize import minimize\n",
    "from math import pi, sqrt"
   ]
  },
  {
   "cell_type": "markdown",
   "metadata": {},
   "source": [
    "# Problem 1 - Carron Chemical"
   ]
  },
  {
   "cell_type": "code",
   "execution_count": 3,
   "metadata": {},
   "outputs": [],
   "source": [
    "def objective(x, sign = 1.0):\n",
    "    return sign*(4*x[0] + 2*x[1] - 0.5*x[0]**2 - 0.25*x[1]**2)\n",
    "\n",
    "def constraint(x):\n",
    "    return 40000 - (8000*x[0] + 5000*x[1])"
   ]
  },
  {
   "cell_type": "code",
   "execution_count": 4,
   "metadata": {},
   "outputs": [
    {
     "name": "stdout",
     "output_type": "stream",
     "text": [
      "Guessed Quantity of Fertilizer Produced: 5.25\n"
     ]
    }
   ],
   "source": [
    "#Guess \n",
    "n = 2\n",
    "x0 = np.zeros(n)\n",
    "x0[0] = 1\n",
    "x0[1] = 1\n",
    "\n",
    "print('Guessed Quantity of Fertilizer Produced: ' + str(objective(x0)))"
   ]
  },
  {
   "cell_type": "code",
   "execution_count": 5,
   "metadata": {},
   "outputs": [],
   "source": [
    "b1 = (0,10)\n",
    "b2 = (0,10)\n",
    "bnds = (b1, b2)\n",
    "cons = [{'type': 'ineq', 'fun': constraint}]\n",
    "solution = minimize(objective, x0, args=(-1.0), method = 'SLSQP',\\\n",
    "                   bounds=bnds, constraints = cons)"
   ]
  },
  {
   "cell_type": "code",
   "execution_count": 6,
   "metadata": {},
   "outputs": [
    {
     "name": "stdout",
     "output_type": "stream",
     "text": [
      "Optimal Quantity of Fertilizer Produced: 11.368421052631575\n",
      "\n",
      "x1 Quantity = 3.157894783765504\n",
      "x1 Cost = 25263.15827012403\n",
      "\n",
      "x2 Quantity = 2.947368345975195\n",
      "x2 Cost = 14736.841729875976\n",
      "\n",
      "Total Cost:40000.00000000001\n"
     ]
    }
   ],
   "source": [
    "#solve for optimal solution\n",
    "x = solution.x\n",
    "\n",
    "print('Optimal Quantity of Fertilizer Produced: ' + str(objective(x)))\n",
    "print('')\n",
    "print('x1 Quantity = ' + str(x[0]))\n",
    "print('x1 Cost = '+ str (x[0] * 8000))\n",
    "print('')\n",
    "print('x2 Quantity = ' + str(x[1])) \n",
    "print('x2 Cost = '+ str (x[1] * 5000))\n",
    "print('')\n",
    "print('Total Cost:' + str(8000*x[0] + 5000*x[1]))"
   ]
  },
  {
   "cell_type": "markdown",
   "metadata": {},
   "source": [
    "# Problem 2 - Triangle Area"
   ]
  },
  {
   "cell_type": "code",
   "execution_count": 7,
   "metadata": {},
   "outputs": [],
   "source": [
    "def objective(x, sign=1.0):\n",
    "    s = np.sum(x) * .5\n",
    "    return sign*(sqrt(s * (s - x[0]) * (s - x[1]) * (s - x[2])))\n",
    "\n",
    "def constraint_1(x):\n",
    "    return (x[1] + x[2]) - x[0]\n",
    "\n",
    "def constraint_2(x):\n",
    "    return (x[0] + x[2]) - x[1] \n",
    "\n",
    "def constraint_3(x):\n",
    "    return (x[0] + x[1]) - x[2]\n",
    "\n",
    "def constraint_4(x):\n",
    "    return 60 - np.sum(x)"
   ]
  },
  {
   "cell_type": "code",
   "execution_count": 8,
   "metadata": {},
   "outputs": [
    {
     "name": "stdout",
     "output_type": "stream",
     "text": [
      "Guessed Area: 1.7320508075688772\n"
     ]
    }
   ],
   "source": [
    "#Guess\n",
    "n = 3\n",
    "x0 = np.zeros(n)\n",
    "x0[0] = 2\n",
    "x0[1] = 2\n",
    "x0[2] = 2\n",
    "\n",
    "print('Guessed Area: ' + str(objective(x0)))"
   ]
  },
  {
   "cell_type": "code",
   "execution_count": 9,
   "metadata": {},
   "outputs": [],
   "source": [
    "b1 = (1, 30)\n",
    "b2 = (1, 30)\n",
    "b3 = (1, 30)\n",
    "\n",
    "bnds = (b1, b2, b3)\n",
    "cons = [{'type': 'ineq', 'fun': constraint_1},\n",
    "        {'type': 'ineq', 'fun': constraint_2},\n",
    "        {'type': 'ineq', 'fun': constraint_3},\n",
    "       {'type': 'ineq', 'fun': constraint_4}]\n",
    "solution = minimize(objective,x0, args=(-1.0,),method='SLSQP',\\\n",
    "                    bounds=bnds,constraints=cons)"
   ]
  },
  {
   "cell_type": "code",
   "execution_count": 10,
   "metadata": {},
   "outputs": [
    {
     "name": "stdout",
     "output_type": "stream",
     "text": [
      "Optimal Triangle Area: 173.2050807569032\n",
      "\n",
      "Side a Length = 20.000000004967944\n",
      "Side b Length = 20.00000000496795\n",
      "Side c Length = 19.999999990066783\n",
      "\n",
      "Perimeter:60.00000000000268\n"
     ]
    }
   ],
   "source": [
    "#solve for optimal solution\n",
    "x = solution.x\n",
    "\n",
    "print('Optimal Triangle Area: ' + str(objective(x)))\n",
    "print('')\n",
    "print('Side a Length = ' + str(x[0]))\n",
    "print('Side b Length = ' + str(x[1]))\n",
    "print('Side c Length = ' + str(x[2]))\n",
    "print('')\n",
    "print('Perimeter:' + str(np.sum(x)))"
   ]
  },
  {
   "cell_type": "code",
   "execution_count": 11,
   "metadata": {},
   "outputs": [],
   "source": [
    "#Results for both problems are consistent with the results previously obtained in Excel.  Python has solved several \n",
    "#decimal points past Excel resulting in some variation, but rounding gives the same results."
   ]
  }
 ],
 "metadata": {
  "kernelspec": {
   "display_name": "Python 3",
   "language": "python",
   "name": "python3"
  },
  "language_info": {
   "codemirror_mode": {
    "name": "ipython",
    "version": 3
   },
   "file_extension": ".py",
   "mimetype": "text/x-python",
   "name": "python",
   "nbconvert_exporter": "python",
   "pygments_lexer": "ipython3",
   "version": "3.7.3"
  }
 },
 "nbformat": 4,
 "nbformat_minor": 2
}
